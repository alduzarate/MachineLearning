{
 "cells": [
  {
   "cell_type": "markdown",
   "metadata": {},
   "source": [
    "# Introducción al aprendizaje automatizado - TP final\n",
    "## Autora: Aldana Zarate\n",
    "### Ejercicio 1"
   ]
  },
  {
   "cell_type": "code",
   "execution_count": null,
   "metadata": {},
   "outputs": [],
   "source": [
    "# Imports\n",
    "import numpy as np\n",
    "from sklearn.model_selection import train_test_split\n",
    "import matplotlib.pyplot as plt\n",
    "import pandas as pd\n",
    "#import tensorflow as tf\n",
    "#from tensorflow import keras\n",
    "#from tensorflow.keras import datasets, layers, models\n",
    "\n",
    "#from google.colab import files"
   ]
  },
  {
   "cell_type": "code",
   "execution_count": null,
   "metadata": {},
   "outputs": [],
   "source": [
    "# Funciones auxiliares a usar en los 3 ejercicios\n",
    "\n",
    "def graficar_curvas_error(train_error, val_error, title):\n",
    "    n = list(range(1, len(train_error) + 1))\n",
    "    plt.plot(n, train_error, label = 'Train error')\n",
    "    plt.plot(n, val_error, label = 'Validation error')\n",
    "    plt.xlabel('Epoca')\n",
    "    plt.ylabel('Error')\n",
    "    plt.legend()\n",
    "    plt.title(title)\n",
    "    plt.show()\n",
    "\n",
    "def get_train_val_errors(history):\n",
    "    train_error = list(map(lambda x: 1 - x, history.history['accuracy']))\n",
    "    val_error = list(map(lambda x: 1 - x, history.history['val_accuracy']))\n",
    "\n",
    "    return train_error, val_error\n",
    "\n",
    "def get_test_error(model):\n",
    "    (train_images, train_labels), (test_images, test_labels) = datasets.cifar10.load_data()\n",
    "    # Normalize pixel values to be between 0 and 1\n",
    "    train_images, test_images = train_images / 255.0, test_images / 255.0\n",
    "    test_loss, test_acc = model.evaluate(test_images,  test_labels)\n",
    "    return 1 - test_acc\n",
    "\n",
    "def save_metrics_to_csv(epocas, train_error, val_error, csv_name):\n",
    "    datos_errores = {'Epoca': epocas, 'Train error': train_error, 'Val error': val_error}\n",
    "\n",
    "    df = pd.DataFrame(datos_errores)\n",
    "    df.to_csv(csv_name)\n",
    "    files.download(csv_name)\n",
    "\n",
    "def save_test_error_to_csv(test_error, csv_name):\n",
    "    error_test = {'Error test': [test_error]}\n",
    "\n",
    "    df = pd.DataFrame(error_test)\n",
    "    df.to_csv(csv_name)\n",
    "    files.download(csv_name)"
   ]
  },
  {
   "cell_type": "code",
   "execution_count": null,
   "metadata": {},
   "outputs": [],
   "source": [
    "def ej1(model, epocas):\n",
    "    (train_images, train_labels), (test_images, test_labels) = datasets.cifar10.load_data()\n",
    "\n",
    "    # Normalize pixel values to be between 0 and 1\n",
    "    train_images, test_images = train_images / 255.0, test_images / 255.0\n",
    "\n",
    "    # Partimos el conjunto de train para obtener el de validacion\n",
    "    train_images, val_images, train_labels, val_labels = train_test_split(\n",
    "      train_images, train_labels, test_size=0.2, random_state=0\n",
    "    )\n",
    "\n",
    "    # Compilamos el modelo\n",
    "    model.compile(optimizer='adam',\n",
    "                loss=tf.keras.losses.SparseCategoricalCrossentropy(from_logits=True),\n",
    "                metrics=['accuracy'])\n",
    "    \n",
    "    # Entrenamos el modelo\n",
    "    history = model.fit(\n",
    "      train_images, \n",
    "      train_labels, \n",
    "      epochs=epocas, \n",
    "      validation_data=(val_images, val_labels)\n",
    "    )\n",
    "\n",
    "    return history, model"
   ]
  },
  {
   "cell_type": "code",
   "execution_count": null,
   "metadata": {},
   "outputs": [],
   "source": [
    "# Procedemos a crear la base convolucional para este ejercicio\n",
    "model1 = models.Sequential()\n",
    "model1.add(layers.Conv2D(32, (3, 3), activation='relu', padding='same', input_shape=(32, 32, 3)))\n",
    "model1.add(layers.MaxPooling2D((2, 2)))\n",
    "model1.add(layers.Conv2D(64, (3, 3), padding='same', activation='relu'))\n",
    "model1.add(layers.Conv2D(64, (3, 3), padding='same', activation='relu'))\n",
    "model1.add(layers.MaxPooling2D((2, 2)))\n",
    "model1.add(layers.Conv2D(64, (3, 3), padding='same', activation='relu'))\n",
    "model1.add(layers.Conv2D(64, (3, 3), padding='same', activation='relu'))\n",
    "model1.add(layers.Flatten())\n",
    "model1.add(layers.Dense(64))\n",
    "model1.add(layers.Dense(128))\n",
    "model1.add(layers.Dense(128))\n",
    "model1.add(layers.Dense(10))\n",
    "\n",
    "history_ej1, model_ej1 = ej1(model1, 10)\n",
    "\n",
    "train_error_ej1, val_error_ej1 = get_train_val_errors(history_ej1)\n",
    "test_error_ej1 = get_test_error(model_ej1)\n",
    "\n",
    "save_metrics_to_csv(list(range(1, len(train_error_ej1) + 1)), train_error_ej1, val_error_ej1, 'errores_ej_1.csv')\n",
    "save_test_error_to_csv(test_error_ej1, 'test_error_ej1.csv')\n"
   ]
  },
  {
   "cell_type": "code",
   "execution_count": null,
   "metadata": {},
   "outputs": [],
   "source": [
    "# Analisis datos ej 1"
   ]
  },
  {
   "cell_type": "markdown",
   "metadata": {},
   "source": [
    "# Ejercicio 2"
   ]
  },
  {
   "cell_type": "code",
   "execution_count": null,
   "metadata": {},
   "outputs": [],
   "source": [
    "for (p1,p2) in [(0.2,0), (0.5, 0) , (0.2, 0.2), (0.5, 0.2), (0.2, 0.5), (0.5, 0.5)]:\n",
    "    model2 = models.Sequential()\n",
    "    model2.add(layers.Conv2D(32, (3, 3), activation='relu', padding='same', input_shape=(32, 32, 3)))\n",
    "    model2.add(layers.MaxPooling2D((2, 2)))\n",
    "    model2.add(layers.Conv2D(64, (3, 3), padding='same', activation='relu'))\n",
    "    model2.add(layers.Conv2D(64, (3, 3), padding='same', activation='relu'))\n",
    "    model2.add(layers.MaxPooling2D((2, 2)))\n",
    "    model2.add(layers.Conv2D(64, (3, 3), padding='same', activation='relu'))\n",
    "    model2.add(layers.Conv2D(64, (3, 3), padding='same', activation='relu'))\n",
    "    if p1 > 0:\n",
    "        model2.add(layers.Dropout(p1, input_shape=(32, 32, 3)))\n",
    "    model2.add(layers.Flatten())\n",
    "    model2.add(layers.Dense(64))\n",
    "    if p2 > 0:\n",
    "        model2.add(layers.Dropout(p2, input_shape=(32, 32, 3)))\n",
    "    model2.add(layers.Dense(128))\n",
    "    model2.add(layers.Dense(128))\n",
    "    model2.add(layers.Dense(10))\n",
    "\n",
    "    history_ej2, model_ej2 = ej1(model2, 20)\n",
    "    train_error_ej2, val_error_ej2 = get_train_val_errors(history_ej2)\n",
    "    test_error_ej2 = get_test_error(model_ej2)\n",
    "\n",
    "    save_metrics_to_csv(list(range(1, len(train_error_ej2) + 1)), train_error_ej2, val_error_ej2, 'errores_ej2_p1_'+str(p1)+'_p2_'+str(p2)+'.csv')\n",
    "    save_test_error_to_csv(test_error_ej2, 'error_test_ej2_p1_'+str(p1)+'_p2_'+str(p2)+'.csv')"
   ]
  }
 ],
 "metadata": {
  "kernelspec": {
   "display_name": "base",
   "language": "python",
   "name": "python3"
  },
  "language_info": {
   "name": "python",
   "version": "3.10.9"
  },
  "orig_nbformat": 4
 },
 "nbformat": 4,
 "nbformat_minor": 2
}
